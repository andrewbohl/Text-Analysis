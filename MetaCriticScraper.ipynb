{
 "cells": [
  {
   "cell_type": "code",
   "execution_count": null,
   "metadata": {},
   "outputs": [],
   "source": [
    "from selenium import webdriver\n",
    "import re\n",
    "import csv\n",
    "driver = webdriver.Chrome('/Users/Andrew/Desktop/MSBA/chromedriver')\n",
    "Uauthor=[]\n",
    "Udate=[]\n",
    "Uscore=[]\n",
    "Ucomment=[]\n",
    "Ugame=[]\n",
    "Cauthor =[]\n",
    "Cdate=[]\n",
    "Cscore=[]\n",
    "Ccomment=[]\n",
    "Cgame=[]\n"
   ]
  },
  {
   "cell_type": "code",
   "execution_count": null,
   "metadata": {},
   "outputs": [],
   "source": [
    "# OVERWATCH(PC)\n",
    "# example of one game scraped for reviews by critics and users\n",
    "driver.get(\"https://www.metacritic.com/game/pc/overwatch/critic-reviews\")\n",
    "critics = driver.find_elements_by_class_name('review_section')\n",
    "\n",
    "for a in critics:\n",
    "        Full = a.text.split(\"\\n\")\n",
    "        if len(Full) > 3:\n",
    "            Cauthor.append(Full[0])\n",
    "            Cdate.append(Full[1])\n",
    "            Cscore.append(Full[2])\n",
    "            Ccomment.append(Full[3])\n",
    "            Cgame.append(\"Overwatch\")\n",
    "        else:\n",
    "            continue\n",
    "i = 1\n",
    "num_pages = 11\n",
    "for i in range(1,num_pages+1):\n",
    "    driver.get(\"https://www.metacritic.com/game/pc/overwatch/user-reviews?page=\" + str(i-1))\n",
    "    name_date_score = driver.find_elements_by_class_name('review_section')\n",
    "    for a in name_date_score[0:-6]:\n",
    "        Full = a.text.split(\"\\n\")\n",
    "        if len(Full) > 2:\n",
    "            Uauthor.append(Full[0])\n",
    "            Udate.append(Full[1])\n",
    "            Uscore.append(Full[2])\n",
    "            Ucomment.append(Full[3])\n",
    "            Ugame.append(\"Overwatch\")\n",
    "        else:\n",
    "            continue"
   ]
  }
 ],
 "metadata": {
  "kernelspec": {
   "display_name": "Python 3",
   "language": "python",
   "name": "python3"
  },
  "language_info": {
   "codemirror_mode": {
    "name": "ipython",
    "version": 3
   },
   "file_extension": ".py",
   "mimetype": "text/x-python",
   "name": "python",
   "nbconvert_exporter": "python",
   "pygments_lexer": "ipython3",
   "version": "3.6.7"
  }
 },
 "nbformat": 4,
 "nbformat_minor": 2
}
